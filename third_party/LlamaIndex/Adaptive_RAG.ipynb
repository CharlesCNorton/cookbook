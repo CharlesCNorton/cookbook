{
 "cells": [
  {
   "attachments": {},
   "cell_type": "markdown",
   "id": "5ddc043a",
   "metadata": {},
   "source": [
    "<a href=\"https://colab.research.google.com/github/mistralai/cookbook/blob/main/third_party/LlamaIndex/Adaptive_RAG.ipynb\" target=\"_parent\"><img src=\"https://colab.research.google.com/assets/colab-badge.svg\" alt=\"Open In Colab\"/></a>"
   ]
  },
  {
   "cell_type": "markdown",
   "id": "8034fdda-462b-4751-aadb-ecac3b1d312c",
   "metadata": {},
   "source": [
    "# Adaptive RAG\n",
    "\n",
    "User queries in general can be complex queries, simple queries. One don't always need complex RAG system even to handle simple queries. [Adaptive RAG](https://arxiv.org/abs/2403.14403) proposes an approach to handle complex queries and simple queries.\n",
    "\n",
    "In this notebook, we will implement an approach similar to Adaptive RAG, which differentiates between handling complex and simple queries. We'll focus on Lyft's 10k SEC filings for the years 2020, 2021, and 2022.\n",
    "\n",
    "Our approach will involve using `FunctionCalling` capabilities of `MistralAI` by defining a `FunctionCallingAgentWorker` to call different tools or indices based on the query's complexity.\n",
    "\n",
    "- **Complex Queries:** These will leverage multiple tools that require context from several documents.\n",
    "- **Simple Queries:** These will utilize a single tool that requires context from a single document or directly use an LLM to provide an answer.\n",
    "\n",
    "Following are the steps we follow here:\n",
    "\n",
    "1. Download Data.\n",
    "2. Load Data.\n",
    "3. Create indices for 3 documents.\n",
    "4. Create query engines with documents and LLM.\n",
    "5. Create tools.\n",
    "6. Initialize a `FunctionCallingAgentWorker`.\n",
    "7. Querying."
   ]
  },
  {
   "cell_type": "markdown",
   "id": "6e1b3314-e5af-4348-8a1b-661f0de3f48b",
   "metadata": {},
   "source": [
    "### Installation"
   ]
  },
  {
   "cell_type": "code",
   "execution_count": null,
   "id": "310da4da-6487-446d-bd99-67e685bf6df5",
   "metadata": {
    "scrolled": true
   },
   "outputs": [],
   "source": [
    "!pip install llama-index\n",
    "!pip install llama-index-llms-mistralai\n",
    "!pip install llama-index-embeddings-mistralai"
   ]
  },
  {
   "cell_type": "markdown",
   "id": "39ae2bab-3116-4aab-a3c4-7670766f9625",
   "metadata": {},
   "source": [
    "### Setup API Key"
   ]
  },
  {
   "cell_type": "code",
   "execution_count": 1,
   "id": "dbaf6798-95bb-47b0-9086-cdf0547ef00b",
   "metadata": {},
   "outputs": [],
   "source": [
    "import os\n",
    "os.environ['MISTRAL_API_KEY'] = '<YOUR MISTRAL API KEY>'"
   ]
  },
  {
   "cell_type": "markdown",
   "id": "97b6c5be-6b72-4e4d-87ce-bc0a4e554c78",
   "metadata": {},
   "source": [
    "### Setup LLM and Embedding Model"
   ]
  },
  {
   "cell_type": "code",
   "execution_count": 2,
   "id": "b26e4ba8-e0ae-401f-9cc0-39544eb0d39f",
   "metadata": {},
   "outputs": [],
   "source": [
    "import nest_asyncio\n",
    "\n",
    "nest_asyncio.apply()"
   ]
  },
  {
   "cell_type": "code",
   "execution_count": 3,
   "id": "8a00879b-fa83-41b9-a00a-2ac02888fa11",
   "metadata": {},
   "outputs": [],
   "source": [
    "from llama_index.core import SimpleDirectoryReader, VectorStoreIndex\n",
    "from llama_index.llms.mistralai import MistralAI\n",
    "from llama_index.embeddings.mistralai import MistralAIEmbedding\n",
    "from llama_index.core import Settings\n",
    "\n",
    "from llama_index.core.tools import QueryEngineTool, ToolMetadata\n",
    "from llama_index.core.query_engine import SubQuestionQueryEngine\n",
    "from llama_index.core.query_engine.router_query_engine import RouterQueryEngine\n",
    "from llama_index.core.selectors.llm_selectors import LLMSingleSelector"
   ]
  },
  {
   "cell_type": "code",
   "execution_count": 4,
   "id": "c4d1dab9-bf0f-4e71-8763-e5dba29e4d1a",
   "metadata": {},
   "outputs": [],
   "source": [
    "# Note: Only `mistral-large-latest` supports function calling\n",
    "llm = MistralAI(model='mistral-large-latest') \n",
    "embed_model = MistralAIEmbedding()\n",
    "\n",
    "Settings.llm = llm\n",
    "Settings.embed_model = embed_model"
   ]
  },
  {
   "cell_type": "markdown",
   "id": "0a6fc41a-7371-4c78-9c92-2bcab1273d98",
   "metadata": {},
   "source": [
    "### Logging"
   ]
  },
  {
   "cell_type": "code",
   "execution_count": 5,
   "id": "ad61412c-bd14-4148-913a-0e7ae0da30c9",
   "metadata": {},
   "outputs": [],
   "source": [
    "# NOTE: This is ONLY necessary in jupyter notebook.\n",
    "# Details: Jupyter runs an event-loop behind the scenes.\n",
    "#          This results in nested event-loops when we start an event-loop to make async queries.\n",
    "#          This is normally not allowed, we use nest_asyncio to allow it for convenience.\n",
    "import nest_asyncio\n",
    "\n",
    "nest_asyncio.apply()\n",
    "\n",
    "import logging\n",
    "import sys\n",
    "\n",
    "# Set up the root logger\n",
    "logger = logging.getLogger()\n",
    "logger.setLevel(logging.INFO)  # Set logger level to INFO\n",
    "\n",
    "# Clear out any existing handlers\n",
    "logger.handlers = []\n",
    "\n",
    "# Set up the StreamHandler to output to sys.stdout (Colab's output)\n",
    "handler = logging.StreamHandler(sys.stdout)\n",
    "handler.setLevel(logging.INFO)  # Set handler level to INFO\n",
    "\n",
    "# Add the handler to the logger\n",
    "logger.addHandler(handler)\n",
    "\n",
    "from IPython.display import display, HTML"
   ]
  },
  {
   "cell_type": "markdown",
   "id": "7d54a084-640d-45a2-babc-89bb12ee101b",
   "metadata": {},
   "source": [
    "### Download Data\n",
    "\n",
    "We will download Lyft's 10k SEC filings for the years 2020, 2021, and 2022."
   ]
  },
  {
   "cell_type": "code",
   "execution_count": 6,
   "id": "d69a892d-7caa-44a6-a053-f363d058755d",
   "metadata": {},
   "outputs": [],
   "source": [
    "!wget \"https://www.dropbox.com/scl/fi/ywc29qvt66s8i97h1taci/lyft-10k-2020.pdf?rlkey=d7bru2jno7398imeirn09fey5&dl=0\" -q -O ./lyft_10k_2020.pdf\n",
    "!wget \"https://www.dropbox.com/scl/fi/lpmmki7a9a14s1l5ef7ep/lyft-10k-2021.pdf?rlkey=ud5cwlfotrii6r5jjag1o3hvm&dl=0\" -q -O ./lyft_10k_2021.pdf\n",
    "!wget \"https://www.dropbox.com/scl/fi/iffbbnbw9h7shqnnot5es/lyft-10k-2022.pdf?rlkey=grkdgxcrib60oegtp4jn8hpl8&dl=0\" -q -O ./lyft_10k_2022.pdf"
   ]
  },
  {
   "cell_type": "markdown",
   "id": "3491f538-fd9c-4875-bff5-da7b34a275f5",
   "metadata": {},
   "source": [
    "### Load Data"
   ]
  },
  {
   "cell_type": "code",
   "execution_count": 7,
   "id": "f4d4e4cc-388c-43cf-a3a2-9af16292f510",
   "metadata": {},
   "outputs": [],
   "source": [
    "# Lyft 2020 docs\n",
    "lyft_2020_docs = SimpleDirectoryReader(input_files=[\"./lyft_10k_2020.pdf\"]).load_data()\n",
    "\n",
    "# Lyft 2021 docs\n",
    "lyft_2021_docs = SimpleDirectoryReader(input_files=[\"./lyft_10k_2021.pdf\"]).load_data()\n",
    "\n",
    "# Lyft 2022 docs\n",
    "lyft_2022_docs = SimpleDirectoryReader(input_files=[\"./lyft_10k_2022.pdf\"]).load_data()"
   ]
  },
  {
   "cell_type": "markdown",
   "id": "40b3afe2-1364-4829-b378-30f150e83cbc",
   "metadata": {},
   "source": [
    "### Create Indicies"
   ]
  },
  {
   "cell_type": "code",
   "execution_count": 8,
   "id": "cd4d2310-19fa-4f97-8488-20328069183e",
   "metadata": {},
   "outputs": [
    {
     "name": "stdout",
     "output_type": "stream",
     "text": [
      "HTTP Request: POST https://api.mistral.ai/v1/embeddings \"HTTP/1.1 200 OK\"\n",
      "HTTP Request: POST https://api.mistral.ai/v1/embeddings \"HTTP/1.1 200 OK\"\n",
      "HTTP Request: POST https://api.mistral.ai/v1/embeddings \"HTTP/1.1 200 OK\"\n",
      "HTTP Request: POST https://api.mistral.ai/v1/embeddings \"HTTP/1.1 200 OK\"\n",
      "HTTP Request: POST https://api.mistral.ai/v1/embeddings \"HTTP/1.1 200 OK\"\n",
      "HTTP Request: POST https://api.mistral.ai/v1/embeddings \"HTTP/1.1 200 OK\"\n",
      "HTTP Request: POST https://api.mistral.ai/v1/embeddings \"HTTP/1.1 200 OK\"\n",
      "HTTP Request: POST https://api.mistral.ai/v1/embeddings \"HTTP/1.1 200 OK\"\n",
      "HTTP Request: POST https://api.mistral.ai/v1/embeddings \"HTTP/1.1 200 OK\"\n",
      "HTTP Request: POST https://api.mistral.ai/v1/embeddings \"HTTP/1.1 200 OK\"\n",
      "HTTP Request: POST https://api.mistral.ai/v1/embeddings \"HTTP/1.1 200 OK\"\n",
      "HTTP Request: POST https://api.mistral.ai/v1/embeddings \"HTTP/1.1 200 OK\"\n",
      "HTTP Request: POST https://api.mistral.ai/v1/embeddings \"HTTP/1.1 200 OK\"\n",
      "HTTP Request: POST https://api.mistral.ai/v1/embeddings \"HTTP/1.1 200 OK\"\n",
      "HTTP Request: POST https://api.mistral.ai/v1/embeddings \"HTTP/1.1 200 OK\"\n",
      "HTTP Request: POST https://api.mistral.ai/v1/embeddings \"HTTP/1.1 200 OK\"\n",
      "HTTP Request: POST https://api.mistral.ai/v1/embeddings \"HTTP/1.1 200 OK\"\n",
      "HTTP Request: POST https://api.mistral.ai/v1/embeddings \"HTTP/1.1 200 OK\"\n",
      "HTTP Request: POST https://api.mistral.ai/v1/embeddings \"HTTP/1.1 200 OK\"\n",
      "HTTP Request: POST https://api.mistral.ai/v1/embeddings \"HTTP/1.1 200 OK\"\n",
      "HTTP Request: POST https://api.mistral.ai/v1/embeddings \"HTTP/1.1 200 OK\"\n",
      "HTTP Request: POST https://api.mistral.ai/v1/embeddings \"HTTP/1.1 200 OK\"\n",
      "HTTP Request: POST https://api.mistral.ai/v1/embeddings \"HTTP/1.1 200 OK\"\n",
      "HTTP Request: POST https://api.mistral.ai/v1/embeddings \"HTTP/1.1 200 OK\"\n",
      "HTTP Request: POST https://api.mistral.ai/v1/embeddings \"HTTP/1.1 200 OK\"\n",
      "HTTP Request: POST https://api.mistral.ai/v1/embeddings \"HTTP/1.1 200 OK\"\n",
      "HTTP Request: POST https://api.mistral.ai/v1/embeddings \"HTTP/1.1 200 OK\"\n",
      "HTTP Request: POST https://api.mistral.ai/v1/embeddings \"HTTP/1.1 200 OK\"\n",
      "HTTP Request: POST https://api.mistral.ai/v1/embeddings \"HTTP/1.1 200 OK\"\n",
      "HTTP Request: POST https://api.mistral.ai/v1/embeddings \"HTTP/1.1 200 OK\"\n",
      "HTTP Request: POST https://api.mistral.ai/v1/embeddings \"HTTP/1.1 200 OK\"\n",
      "HTTP Request: POST https://api.mistral.ai/v1/embeddings \"HTTP/1.1 200 OK\"\n",
      "HTTP Request: POST https://api.mistral.ai/v1/embeddings \"HTTP/1.1 200 OK\"\n",
      "HTTP Request: POST https://api.mistral.ai/v1/embeddings \"HTTP/1.1 200 OK\"\n",
      "HTTP Request: POST https://api.mistral.ai/v1/embeddings \"HTTP/1.1 200 OK\"\n",
      "HTTP Request: POST https://api.mistral.ai/v1/embeddings \"HTTP/1.1 200 OK\"\n",
      "HTTP Request: POST https://api.mistral.ai/v1/embeddings \"HTTP/1.1 200 OK\"\n",
      "HTTP Request: POST https://api.mistral.ai/v1/embeddings \"HTTP/1.1 200 OK\"\n",
      "HTTP Request: POST https://api.mistral.ai/v1/embeddings \"HTTP/1.1 200 OK\"\n",
      "HTTP Request: POST https://api.mistral.ai/v1/embeddings \"HTTP/1.1 200 OK\"\n",
      "HTTP Request: POST https://api.mistral.ai/v1/embeddings \"HTTP/1.1 200 OK\"\n",
      "HTTP Request: POST https://api.mistral.ai/v1/embeddings \"HTTP/1.1 200 OK\"\n",
      "HTTP Request: POST https://api.mistral.ai/v1/embeddings \"HTTP/1.1 200 OK\"\n",
      "HTTP Request: POST https://api.mistral.ai/v1/embeddings \"HTTP/1.1 200 OK\"\n",
      "HTTP Request: POST https://api.mistral.ai/v1/embeddings \"HTTP/1.1 200 OK\"\n",
      "HTTP Request: POST https://api.mistral.ai/v1/embeddings \"HTTP/1.1 200 OK\"\n",
      "HTTP Request: POST https://api.mistral.ai/v1/embeddings \"HTTP/1.1 200 OK\"\n",
      "HTTP Request: POST https://api.mistral.ai/v1/embeddings \"HTTP/1.1 200 OK\"\n",
      "HTTP Request: POST https://api.mistral.ai/v1/embeddings \"HTTP/1.1 200 OK\"\n",
      "HTTP Request: POST https://api.mistral.ai/v1/embeddings \"HTTP/1.1 200 OK\"\n",
      "HTTP Request: POST https://api.mistral.ai/v1/embeddings \"HTTP/1.1 200 OK\"\n",
      "HTTP Request: POST https://api.mistral.ai/v1/embeddings \"HTTP/1.1 200 OK\"\n",
      "HTTP Request: POST https://api.mistral.ai/v1/embeddings \"HTTP/1.1 200 OK\"\n",
      "HTTP Request: POST https://api.mistral.ai/v1/embeddings \"HTTP/1.1 200 OK\"\n",
      "HTTP Request: POST https://api.mistral.ai/v1/embeddings \"HTTP/1.1 200 OK\"\n",
      "HTTP Request: POST https://api.mistral.ai/v1/embeddings \"HTTP/1.1 200 OK\"\n",
      "HTTP Request: POST https://api.mistral.ai/v1/embeddings \"HTTP/1.1 200 OK\"\n",
      "HTTP Request: POST https://api.mistral.ai/v1/embeddings \"HTTP/1.1 200 OK\"\n",
      "HTTP Request: POST https://api.mistral.ai/v1/embeddings \"HTTP/1.1 200 OK\"\n",
      "HTTP Request: POST https://api.mistral.ai/v1/embeddings \"HTTP/1.1 200 OK\"\n",
      "HTTP Request: POST https://api.mistral.ai/v1/embeddings \"HTTP/1.1 200 OK\"\n",
      "HTTP Request: POST https://api.mistral.ai/v1/embeddings \"HTTP/1.1 200 OK\"\n",
      "HTTP Request: POST https://api.mistral.ai/v1/embeddings \"HTTP/1.1 200 OK\"\n",
      "HTTP Request: POST https://api.mistral.ai/v1/embeddings \"HTTP/1.1 200 OK\"\n",
      "HTTP Request: POST https://api.mistral.ai/v1/embeddings \"HTTP/1.1 200 OK\"\n",
      "HTTP Request: POST https://api.mistral.ai/v1/embeddings \"HTTP/1.1 200 OK\"\n",
      "HTTP Request: POST https://api.mistral.ai/v1/embeddings \"HTTP/1.1 200 OK\"\n",
      "HTTP Request: POST https://api.mistral.ai/v1/embeddings \"HTTP/1.1 200 OK\"\n",
      "HTTP Request: POST https://api.mistral.ai/v1/embeddings \"HTTP/1.1 200 OK\"\n",
      "HTTP Request: POST https://api.mistral.ai/v1/embeddings \"HTTP/1.1 200 OK\"\n",
      "HTTP Request: POST https://api.mistral.ai/v1/embeddings \"HTTP/1.1 200 OK\"\n",
      "HTTP Request: POST https://api.mistral.ai/v1/embeddings \"HTTP/1.1 200 OK\"\n",
      "HTTP Request: POST https://api.mistral.ai/v1/embeddings \"HTTP/1.1 200 OK\"\n",
      "HTTP Request: POST https://api.mistral.ai/v1/embeddings \"HTTP/1.1 200 OK\"\n",
      "HTTP Request: POST https://api.mistral.ai/v1/embeddings \"HTTP/1.1 200 OK\"\n",
      "HTTP Request: POST https://api.mistral.ai/v1/embeddings \"HTTP/1.1 200 OK\"\n",
      "HTTP Request: POST https://api.mistral.ai/v1/embeddings \"HTTP/1.1 200 OK\"\n",
      "HTTP Request: POST https://api.mistral.ai/v1/embeddings \"HTTP/1.1 200 OK\"\n",
      "HTTP Request: POST https://api.mistral.ai/v1/embeddings \"HTTP/1.1 200 OK\"\n",
      "HTTP Request: POST https://api.mistral.ai/v1/embeddings \"HTTP/1.1 200 OK\"\n",
      "HTTP Request: POST https://api.mistral.ai/v1/embeddings \"HTTP/1.1 200 OK\"\n",
      "HTTP Request: POST https://api.mistral.ai/v1/embeddings \"HTTP/1.1 200 OK\"\n",
      "HTTP Request: POST https://api.mistral.ai/v1/embeddings \"HTTP/1.1 200 OK\"\n"
     ]
    }
   ],
   "source": [
    "# Index on Lyft 2020 Document\n",
    "lyft_2020_index = VectorStoreIndex.from_documents(lyft_2020_docs)\n",
    "\n",
    "# Index on Lyft 2021 Document\n",
    "lyft_2021_index = VectorStoreIndex.from_documents(lyft_2021_docs)\n",
    "\n",
    "# Index on Lyft 2022 Document\n",
    "lyft_2022_index = VectorStoreIndex.from_documents(lyft_2022_docs)"
   ]
  },
  {
   "cell_type": "markdown",
   "id": "b23c5588-52e9-4de0-91d2-192fc25a5ae9",
   "metadata": {},
   "source": [
    "### Create Query Engines"
   ]
  },
  {
   "cell_type": "code",
   "execution_count": 9,
   "id": "079239e7-1ccb-4c53-b045-75286bb3dd84",
   "metadata": {},
   "outputs": [],
   "source": [
    "# Query Engine on Lyft 2020 Docs Index\n",
    "lyft_2020_query_engine = lyft_2020_index.as_query_engine(similarity_top_k=5)\n",
    "\n",
    "# Query Engine on Lyft 2021 Docs Index\n",
    "lyft_2021_query_engine = lyft_2021_index.as_query_engine(similarity_top_k=5)\n",
    "\n",
    "# Query Engine on Lyft 2022 Docs Index\n",
    "lyft_2022_query_engine = lyft_2022_index.as_query_engine(similarity_top_k=5)"
   ]
  },
  {
   "cell_type": "markdown",
   "id": "93dd606d-0eb5-473e-aef9-5a38f308bb41",
   "metadata": {},
   "source": [
    "Query Engine for LLM. With this we will use LLM to answer the query."
   ]
  },
  {
   "cell_type": "code",
   "execution_count": 10,
   "id": "fa7a5d6a-215a-4754-8673-b3f4b39a7875",
   "metadata": {},
   "outputs": [],
   "source": [
    "from llama_index.core.query_engine import CustomQueryEngine\n",
    "\n",
    "class LLMQueryEngine(CustomQueryEngine):\n",
    "    \"\"\"RAG String Query Engine.\"\"\"\n",
    "\n",
    "    llm: llm\n",
    "\n",
    "    def custom_query(self, query_str: str):\n",
    "\n",
    "        response = self.llm.complete(query_str)\n",
    "\n",
    "        return str(response)\n",
    "\n",
    "llm_query_engine = LLMQueryEngine(llm=llm)"
   ]
  },
  {
   "cell_type": "markdown",
   "id": "504e13c0-487d-4713-8bb4-10cac88e8ff6",
   "metadata": {},
   "source": [
    "### Create Tools\n",
    "\n",
    "We will create tools using the `QueryEngines` created earlier. The LLM will then select either a single tool or multiple tools to respond to the user's query."
   ]
  },
  {
   "cell_type": "code",
   "execution_count": 11,
   "id": "045bc17d-48bb-4292-b042-69383ab063f7",
   "metadata": {},
   "outputs": [],
   "source": [
    "from llama_index.core.tools import QueryEngineTool, ToolMetadata\n",
    "\n",
    "query_engine_tools = [\n",
    "    QueryEngineTool(\n",
    "        query_engine=lyft_2020_query_engine,\n",
    "        metadata=ToolMetadata(\n",
    "            name=\"lyft_2020_10k_form\",\n",
    "            description=\"Annual report of Lyft's financial activities in 2020\",\n",
    "        ),\n",
    "    ),\n",
    "    QueryEngineTool(\n",
    "        query_engine=lyft_2021_query_engine,\n",
    "        metadata=ToolMetadata(\n",
    "            name=\"lyft_2021_10k_form\",\n",
    "            description=\"Annual report of Lyft's financial activities in 2021\",\n",
    "        ),\n",
    "    ),\n",
    "    QueryEngineTool(\n",
    "        query_engine=lyft_2022_query_engine,\n",
    "        metadata=ToolMetadata(\n",
    "            name=\"lyft_2022_10k_form\",\n",
    "            description=\"Annual report of Lyft's financial activities in 2022\",\n",
    "        ),\n",
    "    ),\n",
    "    QueryEngineTool(\n",
    "        query_engine=llm_query_engine,\n",
    "        metadata=ToolMetadata(\n",
    "            name=\"general_queries\",\n",
    "            description=(\n",
    "                \"Provides information about general queries other than lyft.\"\n",
    "            )\n",
    "        )\n",
    ")\n",
    "]"
   ]
  },
  {
   "cell_type": "markdown",
   "id": "409f5c5d-c846-49ab-92ab-d4c3217ce4f6",
   "metadata": {},
   "source": [
    "Initialize a `FunctionCallingAgentWorker`"
   ]
  },
  {
   "cell_type": "code",
   "execution_count": 12,
   "id": "18dd9733-ce58-4edc-9a6f-f8c38dd29bc0",
   "metadata": {},
   "outputs": [],
   "source": [
    "from llama_index.core.agent import FunctionCallingAgentWorker\n",
    "from llama_index.core.agent import AgentRunner\n",
    "\n",
    "agent_worker = FunctionCallingAgentWorker.from_tools(\n",
    "    query_engine_tools,\n",
    "    llm=llm,\n",
    "    verbose=True,\n",
    "    allow_parallel_tool_calls=True,\n",
    ")"
   ]
  },
  {
   "cell_type": "markdown",
   "id": "e1debe82-1016-4ade-ba3f-284f0c872b79",
   "metadata": {},
   "source": [
    "### Querying"
   ]
  },
  {
   "cell_type": "markdown",
   "id": "33f0ee2c-2e7b-4301-bb0d-0fed29b75e88",
   "metadata": {},
   "source": [
    "#### Simple Queries:"
   ]
  },
  {
   "cell_type": "markdown",
   "id": "e26f0f65-129f-4774-b881-68f370fa9771",
   "metadata": {},
   "source": [
    "##### Query: What is the capital of France?\n",
    "\n",
    "You can see that it used LLM tool since it is a general query."
   ]
  },
  {
   "cell_type": "code",
   "execution_count": 13,
   "id": "f1f22b16-2067-4e68-8672-f217e85e3873",
   "metadata": {},
   "outputs": [
    {
     "name": "stdout",
     "output_type": "stream",
     "text": [
      "Added user message to memory: What is the capital of France?\n",
      "HTTP Request: POST https://api.mistral.ai/v1/chat/completions \"HTTP/1.1 200 OK\"\n",
      "=== Calling Function ===\n",
      "Calling function: general_queries with args: {\"input\": \"What is the capital of France?\"}\n",
      "HTTP Request: POST https://api.mistral.ai/v1/chat/completions \"HTTP/1.1 200 OK\"\n",
      "HTTP Request: POST https://api.mistral.ai/v1/chat/completions \"HTTP/1.1 200 OK\"\n"
     ]
    },
    {
     "data": {
      "text/html": [
       "<p style=\"font-size:20px\">assistant: The capital of France is Paris. Known as the \"City of Light,\" Paris is famous for its iconic landmarks like the Eiffel Tower, Louvre Museum, Notre-Dame Cathedral, and more. It is a global center for art, fashion, gastronomy, and culture.</p>"
      ],
      "text/plain": [
       "<IPython.core.display.HTML object>"
      ]
     },
     "metadata": {},
     "output_type": "display_data"
    }
   ],
   "source": [
    "agent = AgentRunner(agent_worker)\n",
    "response = agent.chat(\"What is the capital of France?\")\n",
    "display(HTML(f'<p style=\"font-size:20px\">{response.response}</p>'))"
   ]
  },
  {
   "cell_type": "markdown",
   "id": "21dfee51-b28c-40b4-91fd-f84137f8b760",
   "metadata": {},
   "source": [
    "##### Query: What did Lyft do in R&D in 2022?\n",
    "\n",
    "You can see that it used lyft_2022 tool to answer the query."
   ]
  },
  {
   "cell_type": "code",
   "execution_count": 14,
   "id": "aeccdd6c-9bf9-44a1-b788-8f3a44f7da57",
   "metadata": {},
   "outputs": [
    {
     "name": "stdout",
     "output_type": "stream",
     "text": [
      "Added user message to memory: What did Lyft do in R&D in 2022?\n",
      "HTTP Request: POST https://api.mistral.ai/v1/chat/completions \"HTTP/1.1 200 OK\"\n",
      "=== Calling Function ===\n",
      "Calling function: lyft_2022_10k_form with args: {\"input\": \"R&D activities in 2022\"}\n",
      "HTTP Request: POST https://api.mistral.ai/v1/embeddings \"HTTP/1.1 200 OK\"\n",
      "HTTP Request: POST https://api.mistral.ai/v1/chat/completions \"HTTP/1.1 200 OK\"\n",
      "HTTP Request: POST https://api.mistral.ai/v1/chat/completions \"HTTP/1.1 200 OK\"\n"
     ]
    },
    {
     "data": {
      "text/html": [
       "<p style=\"font-size:20px\">assistant: In 2022, Lyft's research and development expenses decreased by $55.2 million, or 6%, compared to the prior year. This decrease was primarily due to a reduction in personnel-related costs and stock-based compensation, driven by reduced headcount following a transaction with Woven Planet in the third quarter of 2021. There were also reductions in Level 5 costs, web hosting fees, and autonomous vehicle research costs, as well as a decrease in consulting and advisory costs. However, these decreases were offset by restructuring costs related to an event in the fourth quarter of 2022, which included impairment costs of operating lease right-of-use assets, severance and benefits costs, and stock-based compensation.</p>"
      ],
      "text/plain": [
       "<IPython.core.display.HTML object>"
      ]
     },
     "metadata": {},
     "output_type": "display_data"
    }
   ],
   "source": [
    "agent = AgentRunner(agent_worker)\n",
    "response = agent.chat(\"What did Lyft do in R&D in 2022?\")\n",
    "display(HTML(f'<p style=\"font-size:20px\">{response.response}</p>'))"
   ]
  },
  {
   "cell_type": "markdown",
   "id": "bd3c8ea7-8db3-40f3-b8a6-c548037edefe",
   "metadata": {},
   "source": [
    "##### Query: What did Lyft do in R&D in 2021?\n",
    "\n",
    "You can see that it used lyft_2021 tool to answer the query."
   ]
  },
  {
   "cell_type": "code",
   "execution_count": 15,
   "id": "9dbc0894-ecfb-43cd-86f4-566d2e21d602",
   "metadata": {},
   "outputs": [
    {
     "name": "stdout",
     "output_type": "stream",
     "text": [
      "Added user message to memory: What did Lyft do in R&D in 2021?\n",
      "HTTP Request: POST https://api.mistral.ai/v1/chat/completions \"HTTP/1.1 200 OK\"\n",
      "=== Calling Function ===\n",
      "Calling function: lyft_2021_10k_form with args: {\"input\": \"R&D activities in 2021\"}\n",
      "HTTP Request: POST https://api.mistral.ai/v1/embeddings \"HTTP/1.1 200 OK\"\n",
      "HTTP Request: POST https://api.mistral.ai/v1/chat/completions \"HTTP/1.1 200 OK\"\n",
      "HTTP Request: POST https://api.mistral.ai/v1/chat/completions \"HTTP/1.1 200 OK\"\n"
     ]
    },
    {
     "data": {
      "text/html": [
       "<p style=\"font-size:20px\">assistant: In 2021, Lyft's Research and Development (R&D) expenses primarily consisted of personnel-related compensation costs and facilities costs. These expenses also included costs related to autonomous vehicle technology initiatives. However, a transaction was completed with Woven Planet, a subsidiary of Toyota Motor Corporation, on July 13, 2021. This transaction involved the divestiture of certain assets related to Lyft's self-driving vehicle division, Level 5. As a result, certain costs related to the prior initiative to develop self-driving systems were eliminated beginning in the third quarter of 2021. The specific financial details of the R&D activities for 2021 are not provided in the given context.</p>"
      ],
      "text/plain": [
       "<IPython.core.display.HTML object>"
      ]
     },
     "metadata": {},
     "output_type": "display_data"
    }
   ],
   "source": [
    "agent = AgentRunner(agent_worker)\n",
    "response = agent.chat(\"What did Lyft do in R&D in 2021?\")\n",
    "display(HTML(f'<p style=\"font-size:20px\">{response.response}</p>'))"
   ]
  },
  {
   "cell_type": "markdown",
   "id": "6a2f002d-7a30-4634-96b6-da32cc4b02e1",
   "metadata": {},
   "source": [
    "##### Query: What did Lyft do in R&D in 2020?\n",
    "\n",
    "You can see that it used lyft_2020 tool to answer the query."
   ]
  },
  {
   "cell_type": "code",
   "execution_count": 16,
   "id": "c2189dfe-fe62-4b93-bdf6-2f8e422e6672",
   "metadata": {},
   "outputs": [
    {
     "name": "stdout",
     "output_type": "stream",
     "text": [
      "Added user message to memory: What did Lyft do in R&D in 2020?\n",
      "HTTP Request: POST https://api.mistral.ai/v1/chat/completions \"HTTP/1.1 200 OK\"\n",
      "=== Calling Function ===\n",
      "Calling function: lyft_2020_10k_form with args: {\"input\": \"R&D activities in 2020\"}\n",
      "HTTP Request: POST https://api.mistral.ai/v1/embeddings \"HTTP/1.1 200 OK\"\n",
      "HTTP Request: POST https://api.mistral.ai/v1/chat/completions \"HTTP/1.1 200 OK\"\n",
      "HTTP Request: POST https://api.mistral.ai/v1/chat/completions \"HTTP/1.1 200 OK\"\n"
     ]
    },
    {
     "data": {
      "text/html": [
       "<p style=\"font-size:20px\">assistant: In 2020, Lyft's research and development (R&D) expenses decreased by $596.5 million, or 40%, compared to the previous year. This decrease was primarily due to a $609.6 million reduction in stock-based compensation expense. This reduction was attributed to two main factors: (i) the use of the accelerated attribution method to recognize expenses for RSUs granted prior to the effectiveness of the company's IPO Registration Statement, which resulted in higher stock-based compensation expense for the year ended December 31, 2019, and (ii) the stock-based compensation benefit related to the restructuring in the second quarter of 2020. However, there was an increase of $47.0 million in autonomous vehicles research and development costs, primarily due to the absence of certain costs in the previous year.</p>"
      ],
      "text/plain": [
       "<IPython.core.display.HTML object>"
      ]
     },
     "metadata": {},
     "output_type": "display_data"
    }
   ],
   "source": [
    "agent = AgentRunner(agent_worker)\n",
    "response = agent.chat(\"What did Lyft do in R&D in 2020?\")\n",
    "display(HTML(f'<p style=\"font-size:20px\">{response.response}</p>'))"
   ]
  },
  {
   "cell_type": "markdown",
   "id": "077ebe1a-bbc2-40ff-a51e-ae57e48d432a",
   "metadata": {},
   "source": [
    "#### Complex Queries\n",
    "\n",
    "Let's test queries that requires multiple tools."
   ]
  },
  {
   "cell_type": "markdown",
   "id": "3f1a5602-aba6-4171-b90f-9afce7d4911c",
   "metadata": {},
   "source": [
    "##### Query: What did Lyft do in R&D in 2022 vs 2020?\n",
    "\n",
    "You can see that it used lyft_2020 and lyft_2022 tools to answer the query."
   ]
  },
  {
   "cell_type": "code",
   "execution_count": 17,
   "id": "9a966798-4cbe-4ce2-bbac-7af8632cacb2",
   "metadata": {},
   "outputs": [
    {
     "name": "stdout",
     "output_type": "stream",
     "text": [
      "Added user message to memory: What did Lyft do in R&D in 2022 vs 2020?\n",
      "HTTP Request: POST https://api.mistral.ai/v1/chat/completions \"HTTP/1.1 200 OK\"\n",
      "=== Calling Function ===\n",
      "Calling function: lyft_2020_10k_form with args: {\"input\": \"R&D expenses\"}\n",
      "HTTP Request: POST https://api.mistral.ai/v1/embeddings \"HTTP/1.1 200 OK\"\n",
      "HTTP Request: POST https://api.mistral.ai/v1/chat/completions \"HTTP/1.1 200 OK\"\n",
      "=== Calling Function ===\n",
      "Calling function: lyft_2022_10k_form with args: {\"input\": \"R&D expenses\"}\n",
      "HTTP Request: POST https://api.mistral.ai/v1/embeddings \"HTTP/1.1 200 OK\"\n",
      "HTTP Request: POST https://api.mistral.ai/v1/chat/completions \"HTTP/1.1 200 OK\"\n",
      "HTTP Request: POST https://api.mistral.ai/v1/chat/completions \"HTTP/1.1 200 OK\"\n"
     ]
    },
    {
     "data": {
      "text/html": [
       "<p style=\"font-size:20px\">assistant: In 2020, Lyft experienced an increase in autonomous vehicles research and development costs due to the absence of certain costs in the previous year. However, the exact amount of R&D expenses for the year is not provided in the context. In 2022, Lyft's R&D expenses were $856,777 thousand, a decrease of $55.2 million, or 6%, compared to the prior year. This decrease was primarily due to a reduction in personnel-related costs and stock-based compensation, driven by reduced headcount following the transaction with Woven Planet in the third quarter of 2021. There were also decreases in Level 5 costs, web hosting fees, autonomous vehicle research costs, and consulting and advisory costs. However, these decreases were partially offset by restructuring costs related to an event in the fourth quarter of 2022.</p>"
      ],
      "text/plain": [
       "<IPython.core.display.HTML object>"
      ]
     },
     "metadata": {},
     "output_type": "display_data"
    }
   ],
   "source": [
    "agent = AgentRunner(agent_worker)\n",
    "response = agent.chat(\"What did Lyft do in R&D in 2022 vs 2020?\")\n",
    "display(HTML(f'<p style=\"font-size:20px\">{response.response}</p>'))"
   ]
  },
  {
   "cell_type": "markdown",
   "id": "e1189418-c0c7-474f-981d-59160b999583",
   "metadata": {},
   "source": [
    "##### Query: What did Lyft do in R&D in 2022 vs 2021 vs 2020?\n",
    "\n",
    "You can see that it used lyft_2020, lyft_2021 and lyft_2022 tools to answer the query."
   ]
  },
  {
   "cell_type": "code",
   "execution_count": 18,
   "id": "e14adac5-a2e8-4224-beea-ba8ae7b3037d",
   "metadata": {},
   "outputs": [
    {
     "name": "stdout",
     "output_type": "stream",
     "text": [
      "Added user message to memory: What did Lyft do in R&D in 2022 vs 2021 vs 2020?\n",
      "HTTP Request: POST https://api.mistral.ai/v1/chat/completions \"HTTP/1.1 200 OK\"\n",
      "=== Calling Function ===\n",
      "Calling function: lyft_2020_10k_form with args: {\"input\": \"R&D activities in 2020\"}\n",
      "HTTP Request: POST https://api.mistral.ai/v1/embeddings \"HTTP/1.1 200 OK\"\n",
      "HTTP Request: POST https://api.mistral.ai/v1/chat/completions \"HTTP/1.1 200 OK\"\n",
      "=== Calling Function ===\n",
      "Calling function: lyft_2021_10k_form with args: {\"input\": \"R&D activities in 2021\"}\n",
      "HTTP Request: POST https://api.mistral.ai/v1/embeddings \"HTTP/1.1 200 OK\"\n",
      "HTTP Request: POST https://api.mistral.ai/v1/chat/completions \"HTTP/1.1 200 OK\"\n",
      "=== Calling Function ===\n",
      "Calling function: lyft_2022_10k_form with args: {\"input\": \"R&D activities in 2022\"}\n",
      "HTTP Request: POST https://api.mistral.ai/v1/embeddings \"HTTP/1.1 200 OK\"\n",
      "HTTP Request: POST https://api.mistral.ai/v1/chat/completions \"HTTP/1.1 200 OK\"\n",
      "HTTP Request: POST https://api.mistral.ai/v1/chat/completions \"HTTP/1.1 200 OK\"\n"
     ]
    },
    {
     "data": {
      "text/html": [
       "<p style=\"font-size:20px\">assistant: In 2020, Lyft's R&D expenses decreased by $596.5 million, or 40%, compared to the previous year. This was primarily due to a reduction in stock-based compensation expense, but there was an increase in autonomous vehicles research and development costs.\n",
       "\n",
       "In 2021, Lyft's R&D expenses primarily consisted of personnel-related compensation costs and facilities costs. These expenses also included costs related to autonomous vehicle technology initiatives. However, a transaction was completed with Woven Planet, a subsidiary of Toyota Motor Corporation, on July 13, 2021, which involved the divestiture of certain assets related to Lyft's self-driving vehicle division, Level 5. As a result, certain costs related to the prior initiative to develop self-driving systems were eliminated beginning in the third quarter of 2021.\n",
       "\n",
       "In 2022, Lyft's R&D expenses decreased by $55.2 million, or 6%, compared to the previous year. This was primarily due to a reduction in personnel-related costs and stock-based compensation, which were driven by reduced headcount following the transaction with Woven Planet in the third quarter of 2021. There were also decreases in Level 5 costs, web hosting fees, autonomous vehicle research costs, and consulting and advisory costs. However, these decreases were partially offset by restructuring costs in the fourth quarter of 2022.</p>"
      ],
      "text/plain": [
       "<IPython.core.display.HTML object>"
      ]
     },
     "metadata": {},
     "output_type": "display_data"
    }
   ],
   "source": [
    "agent = AgentRunner(agent_worker)\n",
    "response = agent.chat(\"What did Lyft do in R&D in 2022 vs 2021 vs 2020?\")\n",
    "display(HTML(f'<p style=\"font-size:20px\">{response.response}</p>'))"
   ]
  },
  {
   "cell_type": "markdown",
   "id": "ae28f801-eafb-49e5-a8ca-851ce6e9d7ea",
   "metadata": {},
   "source": [
    "##### Query: What did Lyft do in R&D in 2022 and what is the capital of France?\n",
    "\n",
    "You can see that it used lyft_2022, and LLM tools to answer the query."
   ]
  },
  {
   "cell_type": "code",
   "execution_count": 19,
   "id": "60150259-6bbb-4642-be8d-1d216b9e1984",
   "metadata": {},
   "outputs": [
    {
     "name": "stdout",
     "output_type": "stream",
     "text": [
      "Added user message to memory: What did Lyft do in R&D in 2022 and what is the capital of France?\n",
      "HTTP Request: POST https://api.mistral.ai/v1/chat/completions \"HTTP/1.1 200 OK\"\n",
      "=== Calling Function ===\n",
      "Calling function: lyft_2022_10k_form with args: {\"input\": \"R&D activities\"}\n",
      "HTTP Request: POST https://api.mistral.ai/v1/embeddings \"HTTP/1.1 200 OK\"\n",
      "HTTP Request: POST https://api.mistral.ai/v1/chat/completions \"HTTP/1.1 200 OK\"\n",
      "=== Calling Function ===\n",
      "Calling function: general_queries with args: {\"input\": \"capital of France\"}\n",
      "HTTP Request: POST https://api.mistral.ai/v1/chat/completions \"HTTP/1.1 200 OK\"\n",
      "HTTP Request: POST https://api.mistral.ai/v1/chat/completions \"HTTP/1.1 200 OK\"\n"
     ]
    },
    {
     "data": {
      "text/html": [
       "<p style=\"font-size:20px\">assistant: In 2022, Lyft was committed to the continuous development and enhancement of its offerings. The company's ability to attract and retain drivers and riders heavily depends on its capacity to introduce new offerings and improve existing ones. Lyft invests in a patent program to protect its intellectual property rights in areas such as ridesharing, autonomous vehicle technology, micro-mobility, telecommunications, and networking. The company holds numerous issued and pending patents and continually reviews its development efforts to assess the existence and patentability of new intellectual property.\n",
       "\n",
       "In terms of growth strategy, Lyft plans to increase rider use cases, grow its rider base, expand its share of consumers' transportation spend, deliver increasing value to drivers, and invest in its marketplace technology. The company is continuously working to make Lyft the transportation network of choice across an expanding range of use cases, offering products to simplify travel decision-making and providing centralized tools and enterprise transportation solutions.\n",
       "\n",
       "Lyft also sees opportunities to grow its rider base by making incremental investments in its brand and growth marketing, providing a full range of price points and ride experiences, and expanding its network coverage. The company's transportation network spans rideshare, car rentals, bikes, scooters, transit, and vehicle services, aiming to deliver the best holistic experience to all of its riders and capture significantly more of its market opportunity.\n",
       "\n",
       "To retain and attract more drivers to Lyft’s network, the company strives to provide drivers with the best possible experience, including access to a variety of economic opportunities and a suite of resources. By making the driver experience better, Lyft can retain and attract more drivers to its network.\n",
       "\n",
       "Lastly, Lyft is committed to investing in its marketplace technology to create increased driver earnings while maintaining strong service levels for riders. The company also leverages its data science and algorithms to inform its product development.\n",
       "\n",
       "As for your second question, the capital of France is Paris. Known as the \"City of Light,\" Paris is famous for its iconic landmarks like the Eiffel Tower, Louvre Museum, Notre-Dame Cathedral, and more. It is a global center for art, fashion, gastronomy, and culture.</p>"
      ],
      "text/plain": [
       "<IPython.core.display.HTML object>"
      ]
     },
     "metadata": {},
     "output_type": "display_data"
    }
   ],
   "source": [
    "agent = AgentRunner(agent_worker)\n",
    "response = agent.chat(\"What did Lyft do in R&D in 2022 and what is the capital of France?\")\n",
    "display(HTML(f'<p style=\"font-size:20px\">{response.response}</p>'))"
   ]
  },
  {
   "cell_type": "code",
   "execution_count": null,
   "id": "d8c5372c-3bcc-4143-a579-bbe1663307b9",
   "metadata": {},
   "outputs": [],
   "source": []
  }
 ],
 "metadata": {
  "kernelspec": {
   "display_name": "Python 3",
   "language": "python",
   "name": "python3"
  },
  "language_info": {
   "codemirror_mode": {
    "name": "ipython",
    "version": 3
   },
   "file_extension": ".py",
   "mimetype": "text/x-python",
   "name": "python",
   "nbconvert_exporter": "python",
   "pygments_lexer": "ipython3",
   "version": "3.11.3 (main, Apr  7 2023, 19:08:44) [Clang 13.0.0 (clang-1300.0.29.30)]"
  },
  "vscode": {
   "interpreter": {
    "hash": "b0fa6594d8f4cbf19f97940f81e996739fb7646882a419484c72d19e05852a7e"
   }
  }
 },
 "nbformat": 4,
 "nbformat_minor": 5
}
