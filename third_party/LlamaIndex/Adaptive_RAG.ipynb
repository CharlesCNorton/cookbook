{
 "cells": [
  {
   "cell_type": "markdown",
   "id": "8034fdda-462b-4751-aadb-ecac3b1d312c",
   "metadata": {},
   "source": [
    "# Adaptive RAG\n",
    "\n",
    "User queries in general can be complex queries, simple queries. One don't always need complex RAG system even to handle simple queries. [Adaptive RAG](https://arxiv.org/abs/2403.14403) proposes an approach to handles complex queries and simple queries seperately.\n",
    "\n",
    "In this notebook we will implement a similar approach in handling complex and simple queries seperately. We will consider following documents for the demonstration:\n",
    "\n",
    "1. Uber 10K 2021 SEC Filings.\n",
    "2. Lyft 10K 2021 SEC Filings.\n",
    "3. Paul Graham Essay.\n",
    "\n",
    "We will use `SubQuestionQueryEngine` to handle complex queries, simple `QueryEngine` to handle simple queries on these docs and only `LLM`(CustomQueryEngine) to handle queries pertaining to other than these documents.\n",
    "\n",
    "Complex Queries - Queries that need context from multiple documents.\n",
    "Simple Queries - Queries that need context from single document or directly LLM can answer it.\n",
    "\n",
    "Following are the steps we follow here:\n",
    "\n",
    "1. Download Data\n",
    "2. Load Data\n",
    "3. Create indices for 3 documents.\n",
    "4. Create query engines.\n",
    "5. Create tools.\n",
    "6. Create `SubQuestionQueryEngine`.\n",
    "7. Create `CustomQueryEngine`.(LLM)\n",
    "8. Create Tools for SubQuestionQueryEngine and CustomQueryEngine.\n",
    "9. Create `RouterQueryEngine` - To route queries based on its complexity.\n",
    "\n",
    "\n",
    "User queries can range from simple to complex. Not all queries require the intricacies of a complex RAG system for effective handling. [Adaptive RAG](https://arxiv.org/abs/2403.14403) introduces a method that differentiates between handling complex and simple queries.\n",
    "\n",
    "In this notebook, we will adopt a similar strategy to manage complex and simple queries distinctly. We will use the following documents for our demonstration:\n",
    "\n",
    "1. Uber's 10K 2021 SEC Filings.\n",
    "2. Lyft's 10K 2021 SEC Filings.\n",
    "3. Paul Graham Essay.\n",
    "\n",
    "   \n",
    "For complex queries, which require context from multiple documents, we'll utilize the `SubQuestionQueryEngine`. For simple queries, which need context from a single document or can be directly answered by an LLM, we'll use a basic `QueryEngine` and a `CustomQueryEngine` (LLM), respectively.\n",
    "\n",
    "Here are the steps we will follow:\n",
    "\n",
    "1. Download the data.\n",
    "2. Load the data.\n",
    "3. Create indices on the documents.\n",
    "4. Set up the query engines.\n",
    "5. Create the tools on Query Engines.\n",
    "6. Create the `SubQuestionQueryEngine`.\n",
    "7. Create the `CustomQueryEngine` (LLM).\n",
    "8. Implement tools for `SubQuestionQueryEngine` and `CustomQueryEngine`.\n",
    "9. Construct the `RouterQueryEngine` to direct queries based on their complexity."
   ]
  },
  {
   "cell_type": "markdown",
   "id": "6e1b3314-e5af-4348-8a1b-661f0de3f48b",
   "metadata": {},
   "source": [
    "### Installation"
   ]
  },
  {
   "cell_type": "code",
   "execution_count": null,
   "id": "310da4da-6487-446d-bd99-67e685bf6df5",
   "metadata": {
    "scrolled": true
   },
   "outputs": [],
   "source": [
    "!pip install llama-index\n",
    "!pip install llama-index-llms-mistralai\n",
    "!pip install llama-index-embeddings-mistralai"
   ]
  },
  {
   "cell_type": "markdown",
   "id": "39ae2bab-3116-4aab-a3c4-7670766f9625",
   "metadata": {},
   "source": [
    "### Setup API Key"
   ]
  },
  {
   "cell_type": "code",
   "execution_count": 1,
   "id": "dbaf6798-95bb-47b0-9086-cdf0547ef00b",
   "metadata": {},
   "outputs": [],
   "source": [
    "import os\n",
    "os.environ['MISTRAL_API_KEY'] = 'YOUR MISTRAL API KEY'"
   ]
  },
  {
   "cell_type": "markdown",
   "id": "97b6c5be-6b72-4e4d-87ce-bc0a4e554c78",
   "metadata": {},
   "source": [
    "### Setup LLM and Embedding Model"
   ]
  },
  {
   "cell_type": "code",
   "execution_count": 2,
   "id": "b26e4ba8-e0ae-401f-9cc0-39544eb0d39f",
   "metadata": {},
   "outputs": [],
   "source": [
    "import nest_asyncio\n",
    "\n",
    "nest_asyncio.apply()"
   ]
  },
  {
   "cell_type": "code",
   "execution_count": 3,
   "id": "8a00879b-fa83-41b9-a00a-2ac02888fa11",
   "metadata": {},
   "outputs": [],
   "source": [
    "from llama_index.core import SimpleDirectoryReader, VectorStoreIndex\n",
    "from llama_index.llms.mistralai import MistralAI\n",
    "from llama_index.embeddings.mistralai import MistralAIEmbedding\n",
    "from llama_index.core import Settings\n",
    "\n",
    "from llama_index.core.tools import QueryEngineTool, ToolMetadata\n",
    "from llama_index.core.query_engine import SubQuestionQueryEngine\n",
    "from llama_index.core.query_engine.router_query_engine import RouterQueryEngine\n",
    "from llama_index.core.selectors.llm_selectors import LLMSingleSelector"
   ]
  },
  {
   "cell_type": "code",
   "execution_count": 4,
   "id": "c4d1dab9-bf0f-4e71-8763-e5dba29e4d1a",
   "metadata": {},
   "outputs": [],
   "source": [
    "llm = MistralAI(model='mistral-large')\n",
    "embed_model = MistralAIEmbedding()\n",
    "\n",
    "Settings.llm = llm\n",
    "Settings.embed_model = embed_model"
   ]
  },
  {
   "cell_type": "markdown",
   "id": "0a6fc41a-7371-4c78-9c92-2bcab1273d98",
   "metadata": {},
   "source": [
    "### Logging"
   ]
  },
  {
   "cell_type": "code",
   "execution_count": 5,
   "id": "ad61412c-bd14-4148-913a-0e7ae0da30c9",
   "metadata": {},
   "outputs": [],
   "source": [
    "# NOTE: This is ONLY necessary in jupyter notebook.\n",
    "# Details: Jupyter runs an event-loop behind the scenes.\n",
    "#          This results in nested event-loops when we start an event-loop to make async queries.\n",
    "#          This is normally not allowed, we use nest_asyncio to allow it for convenience.\n",
    "import nest_asyncio\n",
    "\n",
    "nest_asyncio.apply()\n",
    "\n",
    "import logging\n",
    "import sys\n",
    "\n",
    "# Set up the root logger\n",
    "logger = logging.getLogger()\n",
    "logger.setLevel(logging.INFO)  # Set logger level to INFO\n",
    "\n",
    "# Clear out any existing handlers\n",
    "logger.handlers = []\n",
    "\n",
    "# Set up the StreamHandler to output to sys.stdout (Colab's output)\n",
    "handler = logging.StreamHandler(sys.stdout)\n",
    "handler.setLevel(logging.INFO)  # Set handler level to INFO\n",
    "\n",
    "# Add the handler to the logger\n",
    "logger.addHandler(handler)\n",
    "\n",
    "from IPython.display import display, HTML"
   ]
  },
  {
   "cell_type": "markdown",
   "id": "7d54a084-640d-45a2-babc-89bb12ee101b",
   "metadata": {},
   "source": [
    "### Download Data"
   ]
  },
  {
   "cell_type": "code",
   "execution_count": 6,
   "id": "d69a892d-7caa-44a6-a053-f363d058755d",
   "metadata": {},
   "outputs": [
    {
     "name": "stdout",
     "output_type": "stream",
     "text": [
      "--2024-03-31 06:00:13--  https://raw.githubusercontent.com/run-llama/llama_index/main/docs/docs/examples/data/10k/uber_2021.pdf\n",
      "Resolving raw.githubusercontent.com (raw.githubusercontent.com)... 185.199.109.133, 185.199.108.133, 185.199.111.133, ...\n",
      "Connecting to raw.githubusercontent.com (raw.githubusercontent.com)|185.199.109.133|:443... connected.\n",
      "HTTP request sent, awaiting response... 200 OK\n",
      "Length: 1880483 (1.8M) [application/octet-stream]\n",
      "Saving to: ‘./uber_2021.pdf’\n",
      "\n",
      "./uber_2021.pdf     100%[===================>]   1.79M  --.-KB/s    in 0.04s   \n",
      "\n",
      "2024-03-31 06:00:14 (41.4 MB/s) - ‘./uber_2021.pdf’ saved [1880483/1880483]\n",
      "\n",
      "--2024-03-31 06:00:14--  https://raw.githubusercontent.com/run-llama/llama_index/main/docs/docs/examples/data/10k/lyft_2021.pdf\n",
      "Resolving raw.githubusercontent.com (raw.githubusercontent.com)... 185.199.108.133, 185.199.109.133, 185.199.110.133, ...\n",
      "Connecting to raw.githubusercontent.com (raw.githubusercontent.com)|185.199.108.133|:443... connected.\n",
      "HTTP request sent, awaiting response... 200 OK\n",
      "Length: 1440303 (1.4M) [application/octet-stream]\n",
      "Saving to: ‘./lyft_2021.pdf’\n",
      "\n",
      "./lyft_2021.pdf     100%[===================>]   1.37M  --.-KB/s    in 0.05s   \n",
      "\n",
      "2024-03-31 06:00:14 (25.9 MB/s) - ‘./lyft_2021.pdf’ saved [1440303/1440303]\n",
      "\n",
      "--2024-03-31 06:00:15--  https://raw.githubusercontent.com/run-llama/llama_index/main/docs/examples/data/paul_graham/paul_graham_essay.txt\n",
      "Resolving raw.githubusercontent.com (raw.githubusercontent.com)... 185.199.110.133, 185.199.109.133, 185.199.111.133, ...\n",
      "Connecting to raw.githubusercontent.com (raw.githubusercontent.com)|185.199.110.133|:443... connected.\n",
      "HTTP request sent, awaiting response... 404 Not Found\n",
      "2024-03-31 06:00:15 ERROR 404: Not Found.\n",
      "\n"
     ]
    }
   ],
   "source": [
    "!wget 'https://raw.githubusercontent.com/run-llama/llama_index/main/docs/docs/examples/data/10k/uber_2021.pdf' -O './uber_2021.pdf'\n",
    "!wget 'https://raw.githubusercontent.com/run-llama/llama_index/main/docs/docs/examples/data/10k/lyft_2021.pdf' -O './lyft_2021.pdf'\n",
    "!wget 'https://raw.githubusercontent.com/run-llama/llama_index/main/docs/examples/data/paul_graham/paul_graham_essay.txt' -O './paul_graham_essay.txt'"
   ]
  },
  {
   "cell_type": "markdown",
   "id": "3491f538-fd9c-4875-bff5-da7b34a275f5",
   "metadata": {},
   "source": [
    "### Load Data"
   ]
  },
  {
   "cell_type": "code",
   "execution_count": 7,
   "id": "f4d4e4cc-388c-43cf-a3a2-9af16292f510",
   "metadata": {},
   "outputs": [],
   "source": [
    "# Uber docs\n",
    "uber_docs = SimpleDirectoryReader(input_files=[\"./data/10k/uber_2021.pdf\"]).load_data()\n",
    "\n",
    "# Lyft docs\n",
    "lyft_docs = SimpleDirectoryReader(input_files=[\"./data/10k/lyft_2021.pdf\"]).load_data()\n",
    "\n",
    "# Paul Graham Essay \n",
    "paul_graham_docs = SimpleDirectoryReader(input_files=[\"./paul_graham_essay.txt\"]).load_data()"
   ]
  },
  {
   "cell_type": "markdown",
   "id": "40b3afe2-1364-4829-b378-30f150e83cbc",
   "metadata": {},
   "source": [
    "### Create Indicies"
   ]
  },
  {
   "cell_type": "code",
   "execution_count": null,
   "id": "cd4d2310-19fa-4f97-8488-20328069183e",
   "metadata": {},
   "outputs": [],
   "source": [
    "# Index on Lyft Document\n",
    "lyft_index = VectorStoreIndex.from_documents(lyft_docs)\n",
    "\n",
    "# Index on Uber Document\n",
    "uber_index = VectorStoreIndex.from_documents(uber_docs)\n",
    "\n",
    "# Index on Paul Graham Document\n",
    "paul_graham_index = VectorStoreIndex.from_documents(paul_graham_docs)"
   ]
  },
  {
   "cell_type": "markdown",
   "id": "b23c5588-52e9-4de0-91d2-192fc25a5ae9",
   "metadata": {},
   "source": [
    "### Create Query Engines"
   ]
  },
  {
   "cell_type": "code",
   "execution_count": 9,
   "id": "079239e7-1ccb-4c53-b045-75286bb3dd84",
   "metadata": {},
   "outputs": [],
   "source": [
    "# Query Engine on Lyft Index\n",
    "lyft_query_engine = lyft_index.as_query_engine(similarity_top_k=5)\n",
    "\n",
    "# Query Engine on Uber Index\n",
    "uber_query_engine = uber_index.as_query_engine(similarity_top_k=5)\n",
    "\n",
    "# Query Engine on Paul Graham Index\n",
    "paul_graham_engine = paul_graham_index.as_query_engine(similarity_top_k=5)"
   ]
  },
  {
   "cell_type": "markdown",
   "id": "504e13c0-487d-4713-8bb4-10cac88e8ff6",
   "metadata": {},
   "source": [
    "### Create Tools"
   ]
  },
  {
   "cell_type": "code",
   "execution_count": 10,
   "id": "045bc17d-48bb-4292-b042-69383ab063f7",
   "metadata": {},
   "outputs": [],
   "source": [
    "# Tool on Lyft Query Engine\n",
    "lyft_tool = QueryEngineTool(\n",
    "        query_engine=lyft_query_engine,\n",
    "        metadata=ToolMetadata(\n",
    "            name=\"lyft_10k\",\n",
    "            description=(\n",
    "                \"Provides information about Lyft financials for year 2021\"\n",
    "            ),\n",
    "        ),\n",
    "    )\n",
    "\n",
    "# Tool on Uber Query Engine\n",
    "uber_tool = QueryEngineTool(\n",
    "        query_engine=uber_query_engine,\n",
    "        metadata=ToolMetadata(\n",
    "            name=\"uber_10k\",\n",
    "            description=(\n",
    "                \"Provides information about Uber financials for year 2021\"\n",
    "            )\n",
    "        )\n",
    ")\n",
    "\n",
    "# Tool on Paul Graham Query Engine\n",
    "paul_graham_tool = QueryEngineTool(\n",
    "        query_engine=paul_graham_engine,\n",
    "        metadata=ToolMetadata(\n",
    "            name=\"paul_graham_engine\",\n",
    "            description=(\n",
    "                \"Provides information about Paul Graham Essay.\"\n",
    "            )\n",
    "        )\n",
    ")"
   ]
  },
  {
   "cell_type": "markdown",
   "id": "7e29723f-b5ad-4cd1-9664-dc860beb17dc",
   "metadata": {},
   "source": [
    "### Create SubQuestionQueryEngine"
   ]
  },
  {
   "cell_type": "code",
   "execution_count": 11,
   "id": "79ecd397-5021-46e0-a364-592bc0ff60d0",
   "metadata": {},
   "outputs": [],
   "source": [
    "query_engine_tools = [lyft_tool, uber_tool, paul_graham_tool]\n",
    "\n",
    "sub_question_query_engine = SubQuestionQueryEngine.from_defaults(\n",
    "    query_engine_tools=query_engine_tools\n",
    ")"
   ]
  },
  {
   "cell_type": "markdown",
   "id": "83654673-d814-43bf-b062-a4e198ee8cff",
   "metadata": {},
   "source": [
    "##### Testing"
   ]
  },
  {
   "cell_type": "code",
   "execution_count": 12,
   "id": "5be158a0-4e78-4301-95e9-467fa7480a21",
   "metadata": {},
   "outputs": [
    {
     "name": "stdout",
     "output_type": "stream",
     "text": [
      "HTTP Request: POST https://api.mistral.ai/v1/chat/completions \"HTTP/1.1 200 OK\"\n",
      "Generated 2 sub questions.\n",
      "\u001b[1;3;38;2;237;90;200m[uber_10k] Q: What is the revenue of Uber\n",
      "\u001b[0m\u001b[1;3;38;2;90;149;237m[lyft_10k] Q: What is the revenue of Lyft\n",
      "\u001b[0mHTTP Request: POST https://api.mistral.ai/v1/embeddings \"HTTP/1.1 200 OK\"\n",
      "HTTP Request: POST https://api.mistral.ai/v1/embeddings \"HTTP/1.1 200 OK\"\n",
      "HTTP Request: POST https://api.mistral.ai/v1/chat/completions \"HTTP/1.1 200 OK\"\n",
      "\u001b[1;3;38;2;237;90;200m[uber_10k] A: The revenue of Uber for the year ended December 31, 2021, was $17,455 million. This is an increase of 57% compared to the previous year, primarily due to an increase in Gross Bookings. The revenue is disaggregated into Mobility revenue, Delivery revenue, Freight revenue, and All Other revenue. The Mobility revenue was $6,953 million, Delivery revenue was $8,362 million, Freight revenue was $2,132 million, and All Other revenue was $8 million for the year ended December 31, 2021.\n",
      "\u001b[0mHTTP Request: POST https://api.mistral.ai/v1/chat/completions \"HTTP/1.1 200 OK\"\n",
      "\u001b[1;3;38;2;90;149;237m[lyft_10k] A: The revenue of Lyft is generated from various sources. These include service fees and commissions paid by drivers for using the Lyft Platform to connect with riders, subscription fees from users to access transportation options, and revenue from licensing and data access agreements. They also generate rental revenues primarily from Flexdrive and Lyft Rentals, and earn Concierge platform fees from organizations that use their Concierge offering. The revenue from subscription fees and licensing and data access agreements is recognized on a gross basis, while revenue from rideshare services is reported on a net basis. The company recognizes revenue upon completion of each ride, and upon delivery of rideshare data and ratably over the quarter for access to fleet vehicles. However, the exact amount of revenue is not provided in the given context.\n",
      "\u001b[0mHTTP Request: POST https://api.mistral.ai/v1/chat/completions \"HTTP/1.1 200 OK\"\n"
     ]
    },
    {
     "data": {
      "text/html": [
       "<p style=\"font-size:20px\">Uber's revenue for the year ended December 31, 2021, stood at $17,455 million, which is disaggregated into Mobility revenue, Delivery revenue, Freight revenue, and All Other revenue. On the other hand, Lyft generates revenue from various sources such as service fees, commissions, subscription fees, licensing and data access agreements, rental revenues, and Concierge platform fees. However, the exact revenue figure for Lyft is not provided in the given context, making a direct comparison impossible.</p>"
      ],
      "text/plain": [
       "<IPython.core.display.HTML object>"
      ]
     },
     "metadata": {},
     "output_type": "display_data"
    }
   ],
   "source": [
    "response = sub_question_query_engine.query(\n",
    "    \"Compare the revenue of uber and lyft.\"\n",
    ")\n",
    "display(HTML(f'<p style=\"font-size:20px\">{response.response}</p>'))"
   ]
  },
  {
   "cell_type": "markdown",
   "id": "2f87f62a-3745-4b38-aba6-a7d69a3f42b6",
   "metadata": {},
   "source": [
    "### Create CustomQueryEngine\n",
    "\n",
    "`CustomQueryEngine` will be useful to answer queries direcly by LLM."
   ]
  },
  {
   "cell_type": "code",
   "execution_count": 13,
   "id": "100482c8-8ff6-406a-ab8c-3be9da4ed4fa",
   "metadata": {},
   "outputs": [],
   "source": [
    "from llama_index.core.query_engine import CustomQueryEngine\n",
    "\n",
    "class LLMQueryEngine(CustomQueryEngine):\n",
    "    \"\"\"RAG String Query Engine.\"\"\"\n",
    "\n",
    "    llm: llm\n",
    "\n",
    "    def custom_query(self, query_str: str):\n",
    "\n",
    "        response = self.llm.complete(query_str)\n",
    "\n",
    "        return str(response)"
   ]
  },
  {
   "cell_type": "code",
   "execution_count": 14,
   "id": "9ee960e5-22b9-4168-9e3d-733af571aa11",
   "metadata": {},
   "outputs": [],
   "source": [
    "llm_query_engine = LLMQueryEngine(llm=llm)"
   ]
  },
  {
   "cell_type": "markdown",
   "id": "08ebeee7-6b6b-40a2-9162-17f46d121b5f",
   "metadata": {},
   "source": [
    "##### Testing"
   ]
  },
  {
   "cell_type": "code",
   "execution_count": 15,
   "id": "0762740b-8b6d-4c9c-8e71-b327b02cde4c",
   "metadata": {},
   "outputs": [
    {
     "name": "stdout",
     "output_type": "stream",
     "text": [
      "HTTP Request: POST https://api.mistral.ai/v1/chat/completions \"HTTP/1.1 200 OK\"\n"
     ]
    },
    {
     "data": {
      "text/html": [
       "<p style=\"font-size:20px\">The capital of France is Paris. Known as the \"City of Light,\" Paris is famous for its iconic landmarks like the Eiffel Tower, Louvre Museum, Notre-Dame Cathedral, and more. It is a global center for art, fashion, gastronomy, and culture.</p>"
      ],
      "text/plain": [
       "<IPython.core.display.HTML object>"
      ]
     },
     "metadata": {},
     "output_type": "display_data"
    }
   ],
   "source": [
    "response = llm_query_engine.query(\"What is the capital of France?\")\n",
    "display(HTML(f'<p style=\"font-size:20px\">{response.response}</p>'))"
   ]
  },
  {
   "cell_type": "markdown",
   "id": "e45d965c-7181-489b-8187-e96f344501ff",
   "metadata": {},
   "source": [
    "### Create Tools for SubQuestionQueryEngine and CustomQueryEngine"
   ]
  },
  {
   "cell_type": "code",
   "execution_count": 31,
   "id": "17f3c469-eb09-42e4-bc81-c462b71f3cbb",
   "metadata": {},
   "outputs": [],
   "source": [
    "# Tool on SubQuestionQueryEngine\n",
    "sub_question_query_engine_tool = QueryEngineTool(\n",
    "        query_engine=sub_question_query_engine,\n",
    "        metadata=ToolMetadata(\n",
    "            name=\"uber_lyft_paul_graham_queries\",\n",
    "            description=(\n",
    "                \"Useful to answer complex queries involving uber financials in 2021 or lyft financials in 2021 or paul graham or involving all of them.\"\n",
    "            )\n",
    "        )\n",
    ")"
   ]
  },
  {
   "cell_type": "code",
   "execution_count": 32,
   "id": "d528d360-73a7-4353-9b22-206bf1865a1b",
   "metadata": {},
   "outputs": [],
   "source": [
    "# Tool on CustomQueryEngine for LLM\n",
    "llm_query_engine_tool = QueryEngineTool(\n",
    "        query_engine=llm_query_engine,\n",
    "        metadata=ToolMetadata(\n",
    "            name=\"llm_general_queries\",\n",
    "            description=(\n",
    "                \"Provides information about general queries\"\n",
    "            )\n",
    "        )\n",
    ")"
   ]
  },
  {
   "cell_type": "markdown",
   "id": "6b3ba16f-786c-4b69-af0f-48850d50b9b9",
   "metadata": {},
   "source": [
    "### Create RouterQueryEngine"
   ]
  },
  {
   "cell_type": "code",
   "execution_count": 33,
   "id": "acbc0436-81b7-409c-a6f2-70bc18b59813",
   "metadata": {},
   "outputs": [],
   "source": [
    "from llama_index.core.query_engine import RouterQueryEngine\n",
    "from llama_index.core.selectors import LLMSingleSelector\n",
    "\n",
    "query_engine = RouterQueryEngine(\n",
    "    selector=LLMSingleSelector.from_defaults(),\n",
    "    query_engine_tools=[\n",
    "        llm_query_engine_tool,\n",
    "        sub_question_query_engine_tool,\n",
    "        lyft_tool,\n",
    "        uber_tool, \n",
    "        paul_graham_tool\n",
    "    ],\n",
    "    verbose = True\n",
    ")"
   ]
  },
  {
   "cell_type": "markdown",
   "id": "60c46117-808d-4604-923a-1f0a37eccece",
   "metadata": {},
   "source": [
    "### Querying"
   ]
  },
  {
   "cell_type": "markdown",
   "id": "0e17ab42-f5c8-4879-8cc6-1ef625f45a90",
   "metadata": {},
   "source": [
    "#### Simple queries:"
   ]
  },
  {
   "cell_type": "markdown",
   "id": "6abaa22b-49f6-4091-8f14-b134576856ad",
   "metadata": {},
   "source": [
    "Query: Why did Paul Graham start YC? \n",
    "\n",
    "This should use only Tool/ Index/ QueryEngine of Paul Graham documents."
   ]
  },
  {
   "cell_type": "code",
   "execution_count": 34,
   "id": "3b423f16-ef57-43fd-ac00-a2912902c452",
   "metadata": {},
   "outputs": [
    {
     "name": "stdout",
     "output_type": "stream",
     "text": [
      "HTTP Request: POST https://api.mistral.ai/v1/chat/completions \"HTTP/1.1 200 OK\"\n",
      "Selecting query engine 4: The question is about Paul Graham and why he started YC (Y Combinator). The only option that mentions Paul Graham is choice 5, which provides information about Paul Graham's essay. It's reasonable to assume that his essays might contain information about why he started YC..\n",
      "\u001b[1;3;38;5;200mSelecting query engine 4: The question is about Paul Graham and why he started YC (Y Combinator). The only option that mentions Paul Graham is choice 5, which provides information about Paul Graham's essay. It's reasonable to assume that his essays might contain information about why he started YC..\n",
      "\u001b[0mHTTP Request: POST https://api.mistral.ai/v1/embeddings \"HTTP/1.1 200 OK\"\n",
      "HTTP Request: POST https://api.mistral.ai/v1/chat/completions \"HTTP/1.1 200 OK\"\n"
     ]
    },
    {
     "data": {
      "text/html": [
       "<p style=\"font-size:20px\">Paul Graham started Y Combinator, often referred to as YC, with the aim of providing a new model for funding early-stage startups. He wanted to create an environment where founders could focus on their ideas and growth, receiving necessary guidance and resources without having to give up substantial equity or control. This innovative approach to startup funding and mentorship has since become a cornerstone in the tech industry.</p>"
      ],
      "text/plain": [
       "<IPython.core.display.HTML object>"
      ]
     },
     "metadata": {},
     "output_type": "display_data"
    }
   ],
   "source": [
    "response = query_engine.query(\"Why did Paul Graham start YC?\")\n",
    "display(HTML(f'<p style=\"font-size:20px\">{response.response}</p>'))"
   ]
  },
  {
   "cell_type": "markdown",
   "id": "191cea05-ac22-47f2-bd44-dc8855f8298c",
   "metadata": {},
   "source": [
    "Query: What is the revenue of uber?\n",
    "\n",
    "This should use only Tool/ Index/ QueryEngine of Uber 10K SEC Filing document."
   ]
  },
  {
   "cell_type": "code",
   "execution_count": 35,
   "id": "fb48c5a1-b3f0-45b1-a6a8-16e9b0fe069d",
   "metadata": {},
   "outputs": [
    {
     "name": "stdout",
     "output_type": "stream",
     "text": [
      "HTTP Request: POST https://api.mistral.ai/v1/chat/completions \"HTTP/1.1 200 OK\"\n",
      "Selecting query engine 3: This choice specifically mentions providing information about Uber financials for the year 2021, which is most likely to include details about Uber's revenue..\n",
      "\u001b[1;3;38;5;200mSelecting query engine 3: This choice specifically mentions providing information about Uber financials for the year 2021, which is most likely to include details about Uber's revenue..\n",
      "\u001b[0mHTTP Request: POST https://api.mistral.ai/v1/embeddings \"HTTP/1.1 200 OK\"\n",
      "HTTP Request: POST https://api.mistral.ai/v1/chat/completions \"HTTP/1.1 200 OK\"\n"
     ]
    },
    {
     "data": {
      "text/html": [
       "<p style=\"font-size:20px\">The revenue for Uber Technologies, Inc. for the year ended December 31, 2021, was $17,455 million. This is an increase of 57% compared to the previous year, primarily driven by an increase in Gross Bookings. The revenue is disaggregated into Mobility revenue, Delivery revenue, Freight revenue, and All Other revenue. The specific amounts for each category are provided in the context information.</p>"
      ],
      "text/plain": [
       "<IPython.core.display.HTML object>"
      ]
     },
     "metadata": {},
     "output_type": "display_data"
    }
   ],
   "source": [
    "response = query_engine.query(\"What is the revenue of uber?\")\n",
    "display(HTML(f'<p style=\"font-size:20px\">{response.response}</p>'))"
   ]
  },
  {
   "cell_type": "markdown",
   "id": "155725ca-ce93-4807-be59-12d95472ca87",
   "metadata": {},
   "source": [
    "Query: What is the Capital Of France?\n",
    "\n",
    "This should use only `CustomeQueryEngine` Tool which uses LLM to answer the query as information about it is not present in indexed documents. ."
   ]
  },
  {
   "cell_type": "code",
   "execution_count": 36,
   "id": "c0e8333e-9f45-478f-b3e4-e6d2c5f005a7",
   "metadata": {},
   "outputs": [
    {
     "name": "stdout",
     "output_type": "stream",
     "text": [
      "HTTP Request: POST https://api.mistral.ai/v1/chat/completions \"HTTP/1.1 200 OK\"\n",
      "Selecting query engine 0: The question 'What is the Capital Of France?' is a general query, and option 1 states it provides information about general queries..\n",
      "\u001b[1;3;38;5;200mSelecting query engine 0: The question 'What is the Capital Of France?' is a general query, and option 1 states it provides information about general queries..\n",
      "\u001b[0mHTTP Request: POST https://api.mistral.ai/v1/chat/completions \"HTTP/1.1 200 OK\"\n"
     ]
    },
    {
     "data": {
      "text/html": [
       "<p style=\"font-size:20px\">The capital of France is Paris. Known as the \"City of Light,\" Paris is famous for its iconic landmarks like the Eiffel Tower, Louvre Museum, Notre-Dame Cathedral, and more. It is a global center for art, fashion, gastronomy, and culture.</p>"
      ],
      "text/plain": [
       "<IPython.core.display.HTML object>"
      ]
     },
     "metadata": {},
     "output_type": "display_data"
    }
   ],
   "source": [
    "response = query_engine.query(\"What is the Capital Of France?\")\n",
    "display(HTML(f'<p style=\"font-size:20px\">{response.response}</p>'))"
   ]
  },
  {
   "cell_type": "markdown",
   "id": "ee1765d2-0853-425f-8de4-822c0f251575",
   "metadata": {},
   "source": [
    "#### Complex Queries"
   ]
  },
  {
   "cell_type": "markdown",
   "id": "24243bbf-04fe-401a-977c-544508a95ddd",
   "metadata": {},
   "source": [
    "Query: What is the revenue of uber and why did Paul Graham start YC?\n",
    "\n",
    "This should use `SubQuestionQueryEngine` tool as it needs context of Uber and Paul Graham documents."
   ]
  },
  {
   "cell_type": "code",
   "execution_count": 37,
   "id": "4846593d-1ce3-4939-827a-c17db140b551",
   "metadata": {},
   "outputs": [
    {
     "name": "stdout",
     "output_type": "stream",
     "text": [
      "HTTP Request: POST https://api.mistral.ai/v1/chat/completions \"HTTP/1.1 200 OK\"\n",
      "Selecting query engine 1: This choice is most relevant as it mentions both 'Uber financials' and 'Paul Graham'. It is likely to provide information about Uber's revenue and Paul Graham's initiatives, which could include starting YC..\n",
      "\u001b[1;3;38;5;200mSelecting query engine 1: This choice is most relevant as it mentions both 'Uber financials' and 'Paul Graham'. It is likely to provide information about Uber's revenue and Paul Graham's initiatives, which could include starting YC..\n",
      "\u001b[0mHTTP Request: POST https://api.mistral.ai/v1/chat/completions \"HTTP/1.1 200 OK\"\n",
      "Generated 2 sub questions.\n",
      "\u001b[1;3;38;2;237;90;200m[uber_10k] Q: What is the revenue of Uber\n",
      "\u001b[0m\u001b[1;3;38;2;90;149;237m[paul_graham_engine] Q: Why did Paul Graham start YC\n",
      "\u001b[0mHTTP Request: POST https://api.mistral.ai/v1/embeddings \"HTTP/1.1 200 OK\"\n",
      "HTTP Request: POST https://api.mistral.ai/v1/embeddings \"HTTP/1.1 200 OK\"\n",
      "HTTP Request: POST https://api.mistral.ai/v1/chat/completions \"HTTP/1.1 200 OK\"\n",
      "\u001b[1;3;38;2;90;149;237m[paul_graham_engine] A: Paul Graham started Y Combinator, often referred to as YC, with the aim of creating a new type of startup incubator. He wanted to provide a platform that would offer funding, resources, and mentorship to early-stage startups in exchange for a small amount of equity. The goal was to foster innovation and support entrepreneurs in their journey to build successful companies.\n",
      "\u001b[0mHTTP Request: POST https://api.mistral.ai/v1/chat/completions \"HTTP/1.1 200 OK\"\n",
      "\u001b[1;3;38;2;237;90;200m[uber_10k] A: The revenue of Uber for the year ended December 31, 2021, was $17,455 million. This is an increase of 57% compared to the previous year, primarily due to an increase in Gross Bookings. The revenue is disaggregated into Mobility revenue, Delivery revenue, Freight revenue, and All Other revenue. The Mobility revenue was $6,953 million, Delivery revenue was $8,362 million, Freight revenue was $2,132 million, and All Other revenue was $8 million for the year ended December 31, 2021.\n",
      "\u001b[0mHTTP Request: POST https://api.mistral.ai/v1/chat/completions \"HTTP/1.1 200 OK\"\n"
     ]
    },
    {
     "data": {
      "text/html": [
       "<p style=\"font-size:20px\">The revenue of Uber for the year ended December 31, 2021, was $17,455 million. This represents an increase of 57% compared to the previous year, which can be primarily attributed to an increase in Gross Bookings. The revenue is categorized into Mobility revenue, Delivery revenue, Freight revenue, and All Other revenue. The Mobility revenue was $6,953 million, Delivery revenue was $8,362 million, Freight revenue was $2,132 million, and All Other revenue was $8 million for the year ended December 31, 2021.\n",
       "\n",
       "Paul Graham started Y Combinator, often referred to as YC, with the intention of creating a new type of startup incubator. His aim was to provide a platform that would offer funding, resources, and mentorship to early-stage startups in exchange for a small amount of equity. The primary goal was to foster innovation and support entrepreneurs in their journey to build successful companies.</p>"
      ],
      "text/plain": [
       "<IPython.core.display.HTML object>"
      ]
     },
     "metadata": {},
     "output_type": "display_data"
    }
   ],
   "source": [
    "response = query_engine.query(\"What is the revenue of Uber and why did Paul Graham start YC?\")\n",
    "display(HTML(f'<p style=\"font-size:20px\">{response.response}</p>'))"
   ]
  },
  {
   "cell_type": "markdown",
   "id": "e6fe38e0-f08e-499b-8a27-d4e76d5760c4",
   "metadata": {},
   "source": [
    "Query: What is the revenue of uber and lyft. Why did Paul Graham start YC?\n",
    "\n",
    "This should use `SubQuestionQueryEngine` tool as it needs context of Uber, Lyft and Paul Graham documents."
   ]
  },
  {
   "cell_type": "code",
   "execution_count": 40,
   "id": "86e6b6d0-26ba-406e-9ae9-ea95ec055f29",
   "metadata": {},
   "outputs": [
    {
     "name": "stdout",
     "output_type": "stream",
     "text": [
      "HTTP Request: POST https://api.mistral.ai/v1/chat/completions \"HTTP/1.1 200 OK\"\n",
      "Selecting query engine 1: This choice is most relevant as it mentions handling complex queries involving Uber financials in 2021, Lyft financials in 2021, and Paul Graham. It can potentially provide information to compare the revenues of Uber and Lyft in 2021 and some information about Paul Graham..\n",
      "\u001b[1;3;38;5;200mSelecting query engine 1: This choice is most relevant as it mentions handling complex queries involving Uber financials in 2021, Lyft financials in 2021, and Paul Graham. It can potentially provide information to compare the revenues of Uber and Lyft in 2021 and some information about Paul Graham..\n",
      "\u001b[0mHTTP Request: POST https://api.mistral.ai/v1/chat/completions \"HTTP/1.1 200 OK\"\n",
      "Generated 3 sub questions.\n",
      "\u001b[1;3;38;2;237;90;200m[uber_10k] Q: What is the revenue of Uber in 2021\n",
      "\u001b[0m\u001b[1;3;38;2;90;149;237m[lyft_10k] Q: What is the revenue of Lyft in 2021\n",
      "\u001b[0m\u001b[1;3;38;2;11;159;203m[paul_graham_engine] Q: Why did Paul Graham start YC\n",
      "\u001b[0mHTTP Request: POST https://api.mistral.ai/v1/embeddings \"HTTP/1.1 200 OK\"\n",
      "HTTP Request: POST https://api.mistral.ai/v1/embeddings \"HTTP/1.1 200 OK\"\n",
      "HTTP Request: POST https://api.mistral.ai/v1/embeddings \"HTTP/1.1 200 OK\"\n",
      "HTTP Request: POST https://api.mistral.ai/v1/chat/completions \"HTTP/1.1 200 OK\"\n",
      "\u001b[1;3;38;2;237;90;200m[uber_10k] A: The revenue of Uber in 2021 was $17,455 million.\n",
      "\u001b[0mHTTP Request: POST https://api.mistral.ai/v1/chat/completions \"HTTP/1.1 200 OK\"\n",
      "\u001b[1;3;38;2;90;149;237m[lyft_10k] A: The text does not provide the total revenue of Lyft for the year 2021. However, it does mention that revenue increased by 36% in 2021 compared to the previous year. The exact revenue figure for 2021 is not specified in the provided context.\n",
      "\u001b[0mHTTP Request: POST https://api.mistral.ai/v1/chat/completions \"HTTP/1.1 200 OK\"\n",
      "\u001b[1;3;38;2;11;159;203m[paul_graham_engine] A: Paul Graham started Y Combinator, often referred to as YC, with the aim of creating a new type of startup incubator. He wanted to provide a platform that would offer funding, resources, and mentorship to early-stage startups in exchange for a small amount of equity. The goal was to foster innovation and support entrepreneurs in their journey to build successful companies.\n",
      "\u001b[0mHTTP Request: POST https://api.mistral.ai/v1/chat/completions \"HTTP/1.1 200 OK\"\n"
     ]
    },
    {
     "data": {
      "text/html": [
       "<p style=\"font-size:20px\">In 2021, Uber's revenue was reported to be $17,455 million. However, the exact revenue figure for Lyft in the same year was not provided in the given context, although it was mentioned that Lyft's revenue increased by 36% compared to the previous year.\n",
       "\n",
       "Paul Graham initiated Y Combinator, often abbreviated as YC, with the intention of establishing a novel kind of startup incubator. His aim was to offer funding, resources, and mentorship to startups in their early stages, taking only a small amount of equity in return. The primary objective was to encourage innovation and provide support to entrepreneurs in their quest to build thriving companies.</p>"
      ],
      "text/plain": [
       "<IPython.core.display.HTML object>"
      ]
     },
     "metadata": {},
     "output_type": "display_data"
    }
   ],
   "source": [
    "response = query_engine.query(\"Compare revenue of Uber and Lyft in 2021. Why did Paul Graham start YC?\")\n",
    "display(HTML(f'<p style=\"font-size:20px\">{response.response}</p>'))"
   ]
  },
  {
   "cell_type": "code",
   "execution_count": null,
   "id": "ee29e32a-3c01-4fc6-b502-27615c944fb4",
   "metadata": {},
   "outputs": [],
   "source": []
  }
 ],
 "metadata": {
  "kernelspec": {
   "display_name": "Python 3 (ipykernel)",
   "language": "python",
   "name": "python3"
  },
  "language_info": {
   "codemirror_mode": {
    "name": "ipython",
    "version": 3
   },
   "file_extension": ".py",
   "mimetype": "text/x-python",
   "name": "python",
   "nbconvert_exporter": "python",
   "pygments_lexer": "ipython3",
   "version": "3.10.13"
  }
 },
 "nbformat": 4,
 "nbformat_minor": 5
}
